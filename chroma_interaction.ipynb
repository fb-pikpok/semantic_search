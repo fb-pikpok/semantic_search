{
 "cells": [
  {
   "cell_type": "code",
   "id": "initial_id",
   "metadata": {
    "collapsed": true,
    "ExecuteTime": {
     "end_time": "2025-02-20T01:39:40.365901Z",
     "start_time": "2025-02-20T01:39:39.250542Z"
    }
   },
   "source": [
    "from chroma_handler import *\n",
    "import os\n",
    "import json\n",
    "\n",
    "\n",
    "input_path = r'S:\\SID\\Analytics\\Working Files\\Individual\\Florian\\Projects\\semantic_search\\Database\\Backup'\n",
    "google_play = 'Google Play\\db_embedded.json'\n",
    "survey = 'Survey\\db_embedded.json'\n",
    "zendesk = 'Zendesk\\db_embedded.json'\n",
    "\n",
    "google_path = os.path.join(input_path, google_play)\n",
    "survey_path = os.path.join(input_path, survey)\n",
    "zendesk_path = os.path.join(input_path, zendesk)\n",
    "\n",
    "\n",
    "collection_name = 'HRC_multi_source'\n",
    "persist_dir = r'S:\\SID\\Analytics\\Working Files\\Individual\\Florian\\Projects\\semantic_search\\Database\\ChromaDB'  # folder for storing the persistent DB"
   ],
   "outputs": [
    {
     "name": "stderr",
     "output_type": "stream",
     "text": [
      "2025-02-20 14:39:40,356 - INFO - Environment variables loaded.\n"
     ]
    }
   ],
   "execution_count": 1
  },
  {
   "metadata": {
    "ExecuteTime": {
     "end_time": "2025-02-20T01:40:03.685995Z",
     "start_time": "2025-02-20T01:40:00.080421Z"
    }
   },
   "cell_type": "code",
   "source": [
    "# Load the data\n",
    "google_data = prepare_dataframe('google_play', google_path, output_csv_path=None)           # No output path = no CSV is going to be saved\n",
    "\n",
    "print(\"Preview of the resulting DataFrame:\")\n",
    "print(google_data.head())\n",
    "print(\"\\nNumber of rows:\", len(google_data))"
   ],
   "id": "3d76f9a4efafdb2d",
   "outputs": [
    {
     "name": "stdout",
     "output_type": "stream",
     "text": [
      "Preview of the resulting DataFrame:\n",
      "           userName                                          userImage  score  \\\n",
      "0     Payton Strode  https://play-lh.googleusercontent.com/a/ACg8oc...      5   \n",
      "1     Payton Strode  https://play-lh.googleusercontent.com/a/ACg8oc...      5   \n",
      "2  Rosalie Williams  https://play-lh.googleusercontent.com/a-/ALV-U...      5   \n",
      "3  Rosalie Williams  https://play-lh.googleusercontent.com/a-/ALV-U...      5   \n",
      "4     Sandra Canela  https://play-lh.googleusercontent.com/a-/ALV-U...      5   \n",
      "\n",
      "   thumbsUpCount reviewCreatedVersion replyContent repliedAt appVersion  \\\n",
      "0              0                                                          \n",
      "1              0                                                          \n",
      "2              0                                                          \n",
      "3              0                                                          \n",
      "4              0                                                          \n",
      "\n",
      "         longname pp_data_source                          pp_review_id  \\\n",
      "0  com.pikpok.hrc    Google Play  0cc1f7ae-bf3a-4e1a-a5b1-00873f13cd6a   \n",
      "1  com.pikpok.hrc    Google Play  0cc1f7ae-bf3a-4e1a-a5b1-00873f13cd6a   \n",
      "2  com.pikpok.hrc    Google Play  60c6c960-e2b6-4321-bc95-768a5ef3da19   \n",
      "3  com.pikpok.hrc    Google Play  60c6c960-e2b6-4321-bc95-768a5ef3da19   \n",
      "4  com.pikpok.hrc    Google Play  86b3f8ae-5666-4035-9e1e-9ca2082d3718   \n",
      "\n",
      "                                           pp_review  pp_timestamp language  \\\n",
      "0  It is an amazing game, but I have one request....    1739756974  english   \n",
      "1  It is an amazing game, but I have one request....    1739756974  english   \n",
      "2  . It's so good fun I love it I won 20 races! S...    1739719317  english   \n",
      "3  . It's so good fun I love it I won 20 races! S...    1739719317  english   \n",
      "4                                    i love da horse    1739709729  english   \n",
      "\n",
      "                 topic     sentiment category  \\\n",
      "0       Game Enjoyment      Positive     fact   \n",
      "1   Friesians Addition  Inconclusive  request   \n",
      "2            Enjoyment      Positive     fact   \n",
      "3       Recommendation      Positive  request   \n",
      "4  Enjoyment of Horses      Positive     fact   \n",
      "\n",
      "                                            sentence  \\\n",
      "0     It is an amazing game, but I have one request.   \n",
      "1  I hope in the future the Rival Stars adds the ...   \n",
      "2         It's so good fun I love it I won 20 races!   \n",
      "3                                   So DOWLOADIT NOW   \n",
      "4                                   I love da horse.   \n",
      "\n",
      "                                           embedding    pp_id  \n",
      "0  [-0.01241164281964302, 0.010417025536298752, -...  steam_1  \n",
      "1  [-0.03838688135147095, -0.02864813804626465, -...  steam_2  \n",
      "2  [0.034922853112220764, 0.007044955622404814, -...  steam_3  \n",
      "3  [0.015004636719822884, -0.015071205794811249, ...  steam_4  \n",
      "4  [0.011589277535676956, -0.03388111665844917, -...  steam_5  \n",
      "\n",
      "Number of rows: 3226\n"
     ]
    }
   ],
   "execution_count": 2
  },
  {
   "metadata": {
    "ExecuteTime": {
     "end_time": "2025-02-20T01:40:29.561016Z",
     "start_time": "2025-02-20T01:40:09.937060Z"
    }
   },
   "cell_type": "code",
   "source": [
    "# Create and populate the database\n",
    "create_and_populate_chroma(google_data, collection_name, persist_dir)"
   ],
   "id": "ef34d488f3d8a8b9",
   "outputs": [
    {
     "name": "stderr",
     "output_type": "stream",
     "text": [
      "2025-02-20 14:40:09,942 - INFO - Initializing persistent Chroma client via `PersistentClient`.\n",
      "2025-02-20 14:40:10,253 - INFO - Anonymized telemetry enabled. See                     https://docs.trychroma.com/telemetry for more information.\n",
      "2025-02-20 14:40:10,391 - INFO - Creating new collection 'HRC_multi_source'.\n",
      "2025-02-20 14:40:10,837 - INFO - Converting embedding values to Python lists.\n",
      "2025-02-20 14:40:10,955 - INFO - Inserting 3226 rows into 'HRC_multi_source' in batches of 100.\n",
      "2025-02-20 14:40:11,908 - INFO - Inserted rows 0 to 99 into the collection.\n",
      "2025-02-20 14:40:12,437 - INFO - Inserted rows 100 to 199 into the collection.\n",
      "2025-02-20 14:40:12,871 - INFO - Inserted rows 200 to 299 into the collection.\n",
      "2025-02-20 14:40:13,321 - INFO - Inserted rows 300 to 399 into the collection.\n",
      "2025-02-20 14:40:13,790 - INFO - Inserted rows 400 to 499 into the collection.\n",
      "2025-02-20 14:40:14,234 - INFO - Inserted rows 500 to 599 into the collection.\n",
      "2025-02-20 14:40:14,735 - INFO - Inserted rows 600 to 699 into the collection.\n",
      "2025-02-20 14:40:15,331 - INFO - Inserted rows 700 to 799 into the collection.\n",
      "2025-02-20 14:40:15,909 - INFO - Inserted rows 800 to 899 into the collection.\n",
      "2025-02-20 14:40:16,550 - INFO - Inserted rows 900 to 999 into the collection.\n",
      "2025-02-20 14:40:17,089 - INFO - Inserted rows 1000 to 1099 into the collection.\n",
      "2025-02-20 14:40:17,585 - INFO - Inserted rows 1100 to 1199 into the collection.\n",
      "2025-02-20 14:40:18,139 - INFO - Inserted rows 1200 to 1299 into the collection.\n",
      "2025-02-20 14:40:18,598 - INFO - Inserted rows 1300 to 1399 into the collection.\n",
      "2025-02-20 14:40:19,165 - INFO - Inserted rows 1400 to 1499 into the collection.\n",
      "2025-02-20 14:40:19,872 - INFO - Inserted rows 1500 to 1599 into the collection.\n",
      "2025-02-20 14:40:20,638 - INFO - Inserted rows 1600 to 1699 into the collection.\n",
      "2025-02-20 14:40:21,403 - INFO - Inserted rows 1700 to 1799 into the collection.\n",
      "2025-02-20 14:40:22,030 - INFO - Inserted rows 1800 to 1899 into the collection.\n",
      "2025-02-20 14:40:22,717 - INFO - Inserted rows 1900 to 1999 into the collection.\n",
      "2025-02-20 14:40:23,199 - INFO - Inserted rows 2000 to 2099 into the collection.\n",
      "2025-02-20 14:40:23,716 - INFO - Inserted rows 2100 to 2199 into the collection.\n",
      "2025-02-20 14:40:24,182 - INFO - Inserted rows 2200 to 2299 into the collection.\n",
      "2025-02-20 14:40:24,662 - INFO - Inserted rows 2300 to 2399 into the collection.\n",
      "2025-02-20 14:40:25,211 - INFO - Inserted rows 2400 to 2499 into the collection.\n",
      "2025-02-20 14:40:25,878 - INFO - Inserted rows 2500 to 2599 into the collection.\n",
      "2025-02-20 14:40:26,348 - INFO - Inserted rows 2600 to 2699 into the collection.\n",
      "2025-02-20 14:40:26,927 - INFO - Inserted rows 2700 to 2799 into the collection.\n",
      "2025-02-20 14:40:27,351 - INFO - Inserted rows 2800 to 2899 into the collection.\n",
      "2025-02-20 14:40:28,000 - INFO - Inserted rows 2900 to 2999 into the collection.\n",
      "2025-02-20 14:40:28,611 - INFO - Inserted rows 3000 to 3099 into the collection.\n",
      "2025-02-20 14:40:29,226 - INFO - Inserted rows 3100 to 3199 into the collection.\n",
      "2025-02-20 14:40:29,552 - INFO - Inserted rows 3200 to 3299 into the collection.\n",
      "2025-02-20 14:40:29,552 - INFO - Collection 'HRC_multi_source' successfully created and populated at 'S:\\SID\\Analytics\\Working Files\\Individual\\Florian\\Projects\\semantic_search\\Database\\ChromaDB'. \n"
     ]
    }
   ],
   "execution_count": 3
  },
  {
   "metadata": {
    "ExecuteTime": {
     "end_time": "2025-02-20T01:46:48.637462Z",
     "start_time": "2025-02-20T01:46:47.726411Z"
    }
   },
   "cell_type": "code",
   "source": [
    "# Query the database\n",
    "# 3) Query the database with some text\n",
    "\n",
    "query_text = \"Breeding of Horses\"\n",
    "# Define a similarity threshold (adjust as needed)\n",
    "similarity_threshold = 0.54\n",
    "\n",
    "# Query the database with the similarity threshold instead of top_n\n",
    "results_df = query_chroma(query_text, collection_name, similarity_threshold=similarity_threshold,\n",
    "                          persist_path=persist_dir)\n",
    "\n",
    "# Display the top 5 and bottom 5 results\n",
    "print(\"########## Top 5 closest results ##########\")\n",
    "print(results_df.sort_values(by=\"distance\", ascending=True, inplace=False)[[\"distance\", \"document\"]].head())\n",
    "print(\"########## Bottom 5 closest results ##########\")\n",
    "print(results_df.sort_values(by=\"distance\", ascending=True, inplace=False)[[\"distance\", \"document\"]].tail())"
   ],
   "id": "2bbdd225ba8f42da",
   "outputs": [
    {
     "name": "stderr",
     "output_type": "stream",
     "text": [
      "2025-02-20 14:46:47,733 - INFO - Embedding query text: Breeding of Horses\n",
      "2025-02-20 14:46:48,464 - INFO - Connecting to Chroma DB.\n",
      "2025-02-20 14:46:48,480 - INFO - Retrieving collection 'HRC_multi_source'.\n",
      "2025-02-20 14:46:48,480 - INFO - Querying top 5500 results from 'HRC_multi_source'.\n",
      "2025-02-20 14:46:48,480 - WARNING - Number of requested results 5500 is greater than number of elements in index 3226, updating n_results = 3226\n",
      "2025-02-20 14:46:48,625 - INFO - Received 3226 results. Filtering based on similarity threshold.\n",
      "2025-02-20 14:46:48,628 - INFO - Filtered results count: 102\n"
     ]
    },
    {
     "name": "stdout",
     "output_type": "stream",
     "text": [
      "########## Top 5 closest results ##########\n",
      "   distance                                           document\n",
      "0  0.313637                              Got to breed a horse.\n",
      "1  0.330319    Learning the secrets to breeding horses is key.\n",
      "2  0.350738                          Breeding beautiful foals.\n",
      "3  0.363201                         Breed all types of horses.\n",
      "4  0.372808  Acquiring the resources for breeding horses is...\n",
      "########## Bottom 5 closest results ##########\n",
      "     distance                                           document\n",
      "97   0.537806    I think it should be easier to get more horses.\n",
      "98   0.538033  I'm guessing the foal stall needs to be at a h...\n",
      "99   0.538438    I love this games there is so many horse breed.\n",
      "100  0.538727  Would also be nice if we could buy stables (no...\n",
      "101  0.539448      I just wish there would be more horse breeds.\n"
     ]
    }
   ],
   "execution_count": 6
  },
  {
   "metadata": {},
   "cell_type": "code",
   "outputs": [],
   "execution_count": null,
   "source": [
    "# Add new Data to the database\n",
    "\n"
   ],
   "id": "4c18a897d9e01ffa"
  }
 ],
 "metadata": {
  "kernelspec": {
   "display_name": "Python 3",
   "language": "python",
   "name": "python3"
  },
  "language_info": {
   "codemirror_mode": {
    "name": "ipython",
    "version": 2
   },
   "file_extension": ".py",
   "mimetype": "text/x-python",
   "name": "python",
   "nbconvert_exporter": "python",
   "pygments_lexer": "ipython2",
   "version": "2.7.6"
  }
 },
 "nbformat": 4,
 "nbformat_minor": 5
}
