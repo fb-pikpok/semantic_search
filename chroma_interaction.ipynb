{
 "cells": [
  {
   "cell_type": "code",
   "id": "initial_id",
   "metadata": {
    "collapsed": true,
    "ExecuteTime": {
     "end_time": "2025-02-20T02:46:17.879583Z",
     "start_time": "2025-02-20T02:46:16.823963Z"
    }
   },
   "source": [
    "from chroma_handler import *\n",
    "import os\n",
    "import json\n",
    "\n",
    "\n",
    "input_path = r'S:\\SID\\Analytics\\Working Files\\Individual\\Florian\\Projects\\semantic_search\\Database\\Backup'\n",
    "google_play = 'Google Play\\db_embedded.json'\n",
    "survey = 'Survey\\db_embedded.json'\n",
    "zendesk = 'Zendesk\\db_embedded.json'\n",
    "\n",
    "google_path = os.path.join(input_path, google_play)\n",
    "survey_path = os.path.join(input_path, survey)\n",
    "zendesk_path = os.path.join(input_path, zendesk)\n",
    "\n",
    "\n",
    "collection_name = 'HRC_multi_source'\n",
    "persist_dir = r'S:\\SID\\Analytics\\Working Files\\Individual\\Florian\\Projects\\semantic_search\\Database\\ChromaDB'  # folder for storing the persistent DB"
   ],
   "outputs": [
    {
     "name": "stderr",
     "output_type": "stream",
     "text": [
      "2025-02-20 15:46:17,868 - INFO - Environment variables loaded.\n"
     ]
    }
   ],
   "execution_count": 1
  },
  {
   "metadata": {
    "ExecuteTime": {
     "end_time": "2025-02-20T02:46:39.278982Z",
     "start_time": "2025-02-20T02:46:35.625496Z"
    }
   },
   "cell_type": "code",
   "source": [
    "# Load the data\n",
    "google_data = prepare_dataframe('google_play', google_path, output_csv_path=None)           # No output path = no CSV is going to be saved\n",
    "\n",
    "print(\"Preview of the resulting DataFrame:\")\n",
    "print(google_data.head())\n",
    "print(\"\\nNumber of rows:\", len(google_data))"
   ],
   "id": "3d76f9a4efafdb2d",
   "outputs": [
    {
     "name": "stdout",
     "output_type": "stream",
     "text": [
      "Preview of the resulting DataFrame:\n",
      "           userName                                          userImage  score  \\\n",
      "0     Payton Strode  https://play-lh.googleusercontent.com/a/ACg8oc...      5   \n",
      "1     Payton Strode  https://play-lh.googleusercontent.com/a/ACg8oc...      5   \n",
      "2  Rosalie Williams  https://play-lh.googleusercontent.com/a-/ALV-U...      5   \n",
      "3  Rosalie Williams  https://play-lh.googleusercontent.com/a-/ALV-U...      5   \n",
      "4     Sandra Canela  https://play-lh.googleusercontent.com/a-/ALV-U...      5   \n",
      "\n",
      "   thumbsUpCount reviewCreatedVersion replyContent repliedAt appVersion  \\\n",
      "0              0                                                          \n",
      "1              0                                                          \n",
      "2              0                                                          \n",
      "3              0                                                          \n",
      "4              0                                                          \n",
      "\n",
      "         longname pp_data_source                          pp_review_id  \\\n",
      "0  com.pikpok.hrc    Google Play  0cc1f7ae-bf3a-4e1a-a5b1-00873f13cd6a   \n",
      "1  com.pikpok.hrc    Google Play  0cc1f7ae-bf3a-4e1a-a5b1-00873f13cd6a   \n",
      "2  com.pikpok.hrc    Google Play  60c6c960-e2b6-4321-bc95-768a5ef3da19   \n",
      "3  com.pikpok.hrc    Google Play  60c6c960-e2b6-4321-bc95-768a5ef3da19   \n",
      "4  com.pikpok.hrc    Google Play  86b3f8ae-5666-4035-9e1e-9ca2082d3718   \n",
      "\n",
      "                                           pp_review  pp_timestamp language  \\\n",
      "0  It is an amazing game, but I have one request....    1739756974  english   \n",
      "1  It is an amazing game, but I have one request....    1739756974  english   \n",
      "2  . It's so good fun I love it I won 20 races! S...    1739719317  english   \n",
      "3  . It's so good fun I love it I won 20 races! S...    1739719317  english   \n",
      "4                                    i love da horse    1739709729  english   \n",
      "\n",
      "                 topic     sentiment category  \\\n",
      "0       Game Enjoyment      Positive     fact   \n",
      "1   Friesians Addition  Inconclusive  request   \n",
      "2            Enjoyment      Positive     fact   \n",
      "3       Recommendation      Positive  request   \n",
      "4  Enjoyment of Horses      Positive     fact   \n",
      "\n",
      "                                            sentence  \\\n",
      "0     It is an amazing game, but I have one request.   \n",
      "1  I hope in the future the Rival Stars adds the ...   \n",
      "2         It's so good fun I love it I won 20 races!   \n",
      "3                                   So DOWLOADIT NOW   \n",
      "4                                   I love da horse.   \n",
      "\n",
      "                                           embedding          pp_id  \n",
      "0  [-0.01241164281964302, 0.010417025536298752, -...  google_play_1  \n",
      "1  [-0.03838688135147095, -0.02864813804626465, -...  google_play_2  \n",
      "2  [0.034922853112220764, 0.007044955622404814, -...  google_play_3  \n",
      "3  [0.015004636719822884, -0.015071205794811249, ...  google_play_4  \n",
      "4  [0.011589277535676956, -0.03388111665844917, -...  google_play_5  \n",
      "\n",
      "Number of rows: 3226\n"
     ]
    }
   ],
   "execution_count": 6
  },
  {
   "metadata": {
    "ExecuteTime": {
     "end_time": "2025-02-20T02:48:27.431920Z",
     "start_time": "2025-02-20T02:48:02.594943Z"
    }
   },
   "cell_type": "code",
   "source": [
    "# Create and populate the database\n",
    "upsert_chroma_data(google_data, collection_name, persist_dir)"
   ],
   "id": "ef34d488f3d8a8b9",
   "outputs": [
    {
     "name": "stderr",
     "output_type": "stream",
     "text": [
      "2025-02-20 15:48:02,594 - INFO - Initializing persistent Chroma client via `PersistentClient`.\n",
      "2025-02-20 15:48:02,610 - INFO - Collection 'HRC_multi_source' exists. Retrieving it.\n",
      "2025-02-20 15:48:02,610 - INFO - Ensuring 'embedding' column is a list of floats.\n",
      "2025-02-20 15:48:02,705 - INFO - Deleting any existing items with these 3226 IDs (collection was not newly created).\n",
      "2025-02-20 15:48:07,228 - INFO - Inserting 3226 rows into 'HRC_multi_source' in batches of 100.\n",
      "2025-02-20 15:48:07,948 - INFO - Inserted rows 0 to 99.\n",
      "2025-02-20 15:48:08,547 - INFO - Inserted rows 100 to 199.\n",
      "2025-02-20 15:48:09,186 - INFO - Inserted rows 200 to 299.\n",
      "2025-02-20 15:48:09,813 - INFO - Inserted rows 300 to 399.\n",
      "2025-02-20 15:48:10,359 - INFO - Inserted rows 400 to 499.\n",
      "2025-02-20 15:48:11,098 - INFO - Inserted rows 500 to 599.\n",
      "2025-02-20 15:48:11,687 - INFO - Inserted rows 600 to 699.\n",
      "2025-02-20 15:48:12,323 - INFO - Inserted rows 700 to 799.\n",
      "2025-02-20 15:48:13,124 - INFO - Inserted rows 800 to 899.\n",
      "2025-02-20 15:48:13,796 - INFO - Inserted rows 900 to 999.\n",
      "2025-02-20 15:48:14,371 - INFO - Inserted rows 1000 to 1099.\n",
      "2025-02-20 15:48:14,957 - INFO - Inserted rows 1100 to 1199.\n",
      "2025-02-20 15:48:15,502 - INFO - Inserted rows 1200 to 1299.\n",
      "2025-02-20 15:48:16,108 - INFO - Inserted rows 1300 to 1399.\n",
      "2025-02-20 15:48:16,700 - INFO - Inserted rows 1400 to 1499.\n",
      "2025-02-20 15:48:17,446 - INFO - Inserted rows 1500 to 1599.\n",
      "2025-02-20 15:48:18,343 - INFO - Inserted rows 1600 to 1699.\n",
      "2025-02-20 15:48:19,027 - INFO - Inserted rows 1700 to 1799.\n",
      "2025-02-20 15:48:19,716 - INFO - Inserted rows 1800 to 1899.\n",
      "2025-02-20 15:48:20,320 - INFO - Inserted rows 1900 to 1999.\n",
      "2025-02-20 15:48:20,942 - INFO - Inserted rows 2000 to 2099.\n",
      "2025-02-20 15:48:21,535 - INFO - Inserted rows 2100 to 2199.\n",
      "2025-02-20 15:48:22,141 - INFO - Inserted rows 2200 to 2299.\n",
      "2025-02-20 15:48:22,854 - INFO - Inserted rows 2300 to 2399.\n",
      "2025-02-20 15:48:23,536 - INFO - Inserted rows 2400 to 2499.\n",
      "2025-02-20 15:48:24,120 - INFO - Inserted rows 2500 to 2599.\n",
      "2025-02-20 15:48:24,680 - INFO - Inserted rows 2600 to 2699.\n",
      "2025-02-20 15:48:25,168 - INFO - Inserted rows 2700 to 2799.\n",
      "2025-02-20 15:48:25,662 - INFO - Inserted rows 2800 to 2899.\n",
      "2025-02-20 15:48:26,239 - INFO - Inserted rows 2900 to 2999.\n",
      "2025-02-20 15:48:26,737 - INFO - Inserted rows 3000 to 3099.\n",
      "2025-02-20 15:48:27,209 - INFO - Inserted rows 3100 to 3199.\n",
      "2025-02-20 15:48:27,423 - INFO - Inserted rows 3200 to 3299.\n",
      "2025-02-20 15:48:27,423 - INFO - Upsert operation complete. Collection 'HRC_multi_source' updated with no duplicates.\n"
     ]
    }
   ],
   "execution_count": 9
  },
  {
   "metadata": {
    "ExecuteTime": {
     "end_time": "2025-02-20T02:49:28.488344Z",
     "start_time": "2025-02-20T02:49:27.339522Z"
    }
   },
   "cell_type": "code",
   "source": [
    "# Query the database\n",
    "# 3) Query the database with some text\n",
    "\n",
    "query_text = \"Breeding of Horses\"\n",
    "# Define a similarity threshold (adjust as needed)\n",
    "similarity_threshold = 0.54\n",
    "\n",
    "# Query the database with the similarity threshold instead of top_n\n",
    "results_df = query_chroma(query_text, collection_name, similarity_threshold=similarity_threshold,\n",
    "                          persist_path=persist_dir)\n",
    "\n",
    "if not results_df.empty:\n",
    "    print(\"########## Top 5 closest results ##########\")\n",
    "    print(results_df.sort_values(by=\"distance\", ascending=True, inplace=False)[[\"distance\", \"document\"]].head())\n",
    "    print(\"########## Bottom 5 closest results ##########\")\n",
    "    print(results_df.sort_values(by=\"distance\", ascending=True, inplace=False)[[\"distance\", \"document\"]].tail())"
   ],
   "id": "2bbdd225ba8f42da",
   "outputs": [
    {
     "name": "stderr",
     "output_type": "stream",
     "text": [
      "2025-02-20 15:49:28,332 - INFO - Retrieving collection 'HRC_multi_source'.\n",
      "2025-02-20 15:49:28,332 - WARNING - Number of requested results 5500 is greater than number of elements in index 3226, updating n_results = 3226\n",
      "2025-02-20 15:49:28,467 - INFO - Received 3226 results. Filtering based on similarity threshold.\n",
      "2025-02-20 15:49:28,479 - INFO - Filtered results count: 102\n"
     ]
    },
    {
     "name": "stdout",
     "output_type": "stream",
     "text": [
      "########## Top 5 closest results ##########\n",
      "   distance                                           document\n",
      "0  0.313729                              Got to breed a horse.\n",
      "1  0.330359    Learning the secrets to breeding horses is key.\n",
      "2  0.350750                          Breeding beautiful foals.\n",
      "3  0.363281                         Breed all types of horses.\n",
      "4  0.372901  Acquiring the resources for breeding horses is...\n",
      "########## Bottom 5 closest results ##########\n",
      "     distance                                           document\n",
      "97   0.537930    I think it should be easier to get more horses.\n",
      "98   0.538071  I'm guessing the foal stall needs to be at a h...\n",
      "99   0.538550    I love this games there is so many horse breed.\n",
      "100  0.538823  Would also be nice if we could buy stables (no...\n",
      "101  0.539609      I just wish there would be more horse breeds.\n"
     ]
    }
   ],
   "execution_count": 12
  },
  {
   "metadata": {
    "ExecuteTime": {
     "end_time": "2025-02-20T02:48:58.087145Z",
     "start_time": "2025-02-20T02:48:57.008351Z"
    }
   },
   "cell_type": "code",
   "source": [
    "# Query with filter for metadata\n",
    "query_text = \"Breeding of Horses\"\n",
    "# Define a similarity threshold (adjust as needed)\n",
    "similarity_threshold = 0.54\n",
    "\n",
    "# Query the database with the similarity threshold instead of top_n\n",
    "results_df = query_chroma(query_text,\n",
    "                          collection_name,\n",
    "                          similarity_threshold=similarity_threshold,\n",
    "                          persist_path=persist_dir,\n",
    "                          #where_filters={\"pp_data_source\": \"Flo Play\"}                 # Filter for a specific data source\n",
    "                          )\n",
    "\n",
    "# if results_df is not empty, display the top 5 and bottom 5 results\n",
    "if not results_df.empty:\n",
    "    print(\"########## Top 5 closest results ##########\")\n",
    "    print(results_df.sort_values(by=\"distance\", ascending=True, inplace=False)[[\"distance\", \"document\"]].head())\n",
    "    print(\"########## Bottom 5 closest results ##########\")\n",
    "    print(results_df.sort_values(by=\"distance\", ascending=True, inplace=False)[[\"distance\", \"document\"]].tail())"
   ],
   "id": "4c18a897d9e01ffa",
   "outputs": [
    {
     "name": "stderr",
     "output_type": "stream",
     "text": [
      "2025-02-20 15:48:57,844 - INFO - Retrieving collection 'HRC_multi_source'.\n",
      "2025-02-20 15:48:57,860 - WARNING - Number of requested results 5500 is greater than number of elements in index 3226, updating n_results = 3226\n",
      "2025-02-20 15:48:58,075 - INFO - Received 3226 results. Filtering based on similarity threshold.\n",
      "2025-02-20 15:48:58,079 - INFO - Filtered results count: 102\n"
     ]
    },
    {
     "name": "stdout",
     "output_type": "stream",
     "text": [
      "########## Top 5 closest results ##########\n",
      "   distance                                           document\n",
      "0  0.313729                              Got to breed a horse.\n",
      "1  0.330359    Learning the secrets to breeding horses is key.\n",
      "2  0.350750                          Breeding beautiful foals.\n",
      "3  0.363281                         Breed all types of horses.\n",
      "4  0.372901  Acquiring the resources for breeding horses is...\n",
      "########## Bottom 5 closest results ##########\n",
      "     distance                                           document\n",
      "97   0.537930    I think it should be easier to get more horses.\n",
      "98   0.538071  I'm guessing the foal stall needs to be at a h...\n",
      "99   0.538550    I love this games there is so many horse breed.\n",
      "100  0.538823  Would also be nice if we could buy stables (no...\n",
      "101  0.539609      I just wish there would be more horse breeds.\n"
     ]
    }
   ],
   "execution_count": 11
  },
  {
   "metadata": {
    "ExecuteTime": {
     "end_time": "2025-02-20T02:48:34.908837Z",
     "start_time": "2025-02-20T02:48:34.884689Z"
    }
   },
   "cell_type": "code",
   "source": [
    "chroma_client = chromadb.PersistentClient(path=persist_dir)\n",
    "collection = chroma_client.get_collection(name=collection_name)\n",
    "collection.count()"
   ],
   "id": "40c0b8278d7f9910",
   "outputs": [
    {
     "data": {
      "text/plain": [
       "3226"
      ]
     },
     "execution_count": 10,
     "metadata": {},
     "output_type": "execute_result"
    }
   ],
   "execution_count": 10
  },
  {
   "metadata": {
    "ExecuteTime": {
     "end_time": "2025-02-20T02:46:31.128183Z",
     "start_time": "2025-02-20T02:46:30.874352Z"
    }
   },
   "cell_type": "code",
   "source": [
    "# delet a chroma collection\n",
    "\n",
    "chroma_client.delete_collection(collection_name)\n"
   ],
   "id": "d8076a771a9731c3",
   "outputs": [],
   "execution_count": 5
  }
 ],
 "metadata": {
  "kernelspec": {
   "display_name": "Python 3",
   "language": "python",
   "name": "python3"
  },
  "language_info": {
   "codemirror_mode": {
    "name": "ipython",
    "version": 2
   },
   "file_extension": ".py",
   "mimetype": "text/x-python",
   "name": "python",
   "nbconvert_exporter": "python",
   "pygments_lexer": "ipython2",
   "version": "2.7.6"
  }
 },
 "nbformat": 4,
 "nbformat_minor": 5
}
