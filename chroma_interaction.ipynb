{
 "cells": [
  {
   "cell_type": "code",
   "id": "initial_id",
   "metadata": {
    "collapsed": true,
    "ExecuteTime": {
     "end_time": "2025-02-20T03:06:23.730130Z",
     "start_time": "2025-02-20T03:06:23.727047Z"
    }
   },
   "source": [
    "from chroma_handler import *\n",
    "import os\n",
    "import json\n",
    "\n",
    "\n",
    "input_path = r'S:\\SID\\Analytics\\Working Files\\Individual\\Florian\\Projects\\semantic_search\\Database\\Backup'\n",
    "google_play = 'Google Play\\db_embedded.json'\n",
    "survey = 'Survey\\db_embedded.json'\n",
    "zendesk = 'Zendesk\\db_embedded.json'\n",
    "\n",
    "google_path = os.path.join(input_path, google_play)\n",
    "survey_path = os.path.join(input_path, survey)\n",
    "zendesk_path = os.path.join(input_path, zendesk)\n",
    "\n",
    "\n",
    "collection_name = 'HRC_multi_source'\n",
    "persist_dir = r'S:\\SID\\Analytics\\Working Files\\Individual\\Florian\\Projects\\semantic_search\\Database\\ChromaDB'  # folder for storing the persistent DB"
   ],
   "outputs": [],
   "execution_count": 14
  },
  {
   "metadata": {
    "ExecuteTime": {
     "end_time": "2025-02-20T03:06:28.416264Z",
     "start_time": "2025-02-20T03:06:24.653400Z"
    }
   },
   "cell_type": "code",
   "source": [
    "# Load the data\n",
    "google_data = prepare_dataframe('google_play', google_path, output_csv_path=None)           # No output path = no CSV is going to be saved\n",
    "\n",
    "print(\"Preview of the resulting DataFrame:\")\n",
    "print(google_data.head())\n",
    "print(\"\\nNumber of rows:\", len(google_data))"
   ],
   "id": "3d76f9a4efafdb2d",
   "outputs": [
    {
     "name": "stdout",
     "output_type": "stream",
     "text": [
      "Preview of the resulting DataFrame:\n",
      "           userName                                          userImage  score  \\\n",
      "0     Payton Strode  https://play-lh.googleusercontent.com/a/ACg8oc...      5   \n",
      "1     Payton Strode  https://play-lh.googleusercontent.com/a/ACg8oc...      5   \n",
      "2  Rosalie Williams  https://play-lh.googleusercontent.com/a-/ALV-U...      5   \n",
      "3  Rosalie Williams  https://play-lh.googleusercontent.com/a-/ALV-U...      5   \n",
      "4     Sandra Canela  https://play-lh.googleusercontent.com/a-/ALV-U...      5   \n",
      "\n",
      "   thumbsUpCount reviewCreatedVersion replyContent repliedAt appVersion  \\\n",
      "0              0                                                          \n",
      "1              0                                                          \n",
      "2              0                                                          \n",
      "3              0                                                          \n",
      "4              0                                                          \n",
      "\n",
      "         longname pp_data_source                          pp_review_id  \\\n",
      "0  com.pikpok.hrc    Google Play  0cc1f7ae-bf3a-4e1a-a5b1-00873f13cd6a   \n",
      "1  com.pikpok.hrc    Google Play  0cc1f7ae-bf3a-4e1a-a5b1-00873f13cd6a   \n",
      "2  com.pikpok.hrc    Google Play  60c6c960-e2b6-4321-bc95-768a5ef3da19   \n",
      "3  com.pikpok.hrc    Google Play  60c6c960-e2b6-4321-bc95-768a5ef3da19   \n",
      "4  com.pikpok.hrc    Google Play  86b3f8ae-5666-4035-9e1e-9ca2082d3718   \n",
      "\n",
      "                                           pp_review  pp_timestamp language  \\\n",
      "0  It is an amazing game, but I have one request....    1739756974  english   \n",
      "1  It is an amazing game, but I have one request....    1739756974  english   \n",
      "2  . It's so good fun I love it I won 20 races! S...    1739719317  english   \n",
      "3  . It's so good fun I love it I won 20 races! S...    1739719317  english   \n",
      "4                                    i love da horse    1739709729  english   \n",
      "\n",
      "                 topic     sentiment category  \\\n",
      "0       Game Enjoyment      Positive     fact   \n",
      "1   Friesians Addition  Inconclusive  request   \n",
      "2            Enjoyment      Positive     fact   \n",
      "3       Recommendation      Positive  request   \n",
      "4  Enjoyment of Horses      Positive     fact   \n",
      "\n",
      "                                            sentence  \\\n",
      "0     It is an amazing game, but I have one request.   \n",
      "1  I hope in the future the Rival Stars adds the ...   \n",
      "2         It's so good fun I love it I won 20 races!   \n",
      "3                                   So DOWLOADIT NOW   \n",
      "4                                   I love da horse.   \n",
      "\n",
      "                                           embedding          pp_id  \n",
      "0  [-0.01241164281964302, 0.010417025536298752, -...  google_play_1  \n",
      "1  [-0.03838688135147095, -0.02864813804626465, -...  google_play_2  \n",
      "2  [0.034922853112220764, 0.007044955622404814, -...  google_play_3  \n",
      "3  [0.015004636719822884, -0.015071205794811249, ...  google_play_4  \n",
      "4  [0.011589277535676956, -0.03388111665844917, -...  google_play_5  \n",
      "\n",
      "Number of rows: 3226\n"
     ]
    }
   ],
   "execution_count": 15
  },
  {
   "metadata": {
    "ExecuteTime": {
     "end_time": "2025-02-20T03:07:23.062372Z",
     "start_time": "2025-02-20T03:07:22.805521Z"
    }
   },
   "cell_type": "code",
   "source": [
    "# Create and populate the database\n",
    "upsert_chroma_data(google_data, collection_name, persist_dir)"
   ],
   "id": "ef34d488f3d8a8b9",
   "outputs": [
    {
     "name": "stderr",
     "output_type": "stream",
     "text": [
      "2025-02-20 16:07:22,805 - INFO - Initializing persistent Chroma client via `PersistentClient`.\n",
      "2025-02-20 16:07:22,821 - INFO - Collection 'HRC_multi_source' already exists. Retrieving it.\n",
      "2025-02-20 16:07:22,932 - INFO - Checking which of the 3226 IDs already exist in the collection.\n",
      "2025-02-20 16:07:23,055 - INFO - All IDs already exist in the collection. No new data to insert.\n"
     ]
    }
   ],
   "execution_count": 19
  },
  {
   "metadata": {
    "ExecuteTime": {
     "end_time": "2025-02-20T03:07:29.242554Z",
     "start_time": "2025-02-20T03:07:28.196158Z"
    }
   },
   "cell_type": "code",
   "source": [
    "# Query the database\n",
    "# 3) Query the database with some text\n",
    "\n",
    "query_text = \"Breeding of Horses\"\n",
    "# Define a similarity threshold (adjust as needed)\n",
    "similarity_threshold = 0.54\n",
    "\n",
    "# Query the database with the similarity threshold instead of top_n\n",
    "results_df = query_chroma(query_text, collection_name, similarity_threshold=similarity_threshold,\n",
    "                          persist_path=persist_dir)\n",
    "\n",
    "if not results_df.empty:\n",
    "    print(\"########## Top 5 closest results ##########\")\n",
    "    print(results_df.sort_values(by=\"distance\", ascending=True, inplace=False)[[\"distance\", \"document\"]].head())\n",
    "    print(\"########## Bottom 5 closest results ##########\")\n",
    "    print(results_df.sort_values(by=\"distance\", ascending=True, inplace=False)[[\"distance\", \"document\"]].tail())"
   ],
   "id": "2bbdd225ba8f42da",
   "outputs": [
    {
     "name": "stderr",
     "output_type": "stream",
     "text": [
      "2025-02-20 16:07:29,092 - INFO - Retrieving collection 'HRC_multi_source'.\n",
      "2025-02-20 16:07:29,092 - WARNING - Number of requested results 5500 is greater than number of elements in index 3226, updating n_results = 3226\n",
      "2025-02-20 16:07:29,217 - INFO - Received 3226 results. Filtering based on similarity threshold.\n",
      "2025-02-20 16:07:29,235 - INFO - Filtered results count: 102\n"
     ]
    },
    {
     "name": "stdout",
     "output_type": "stream",
     "text": [
      "########## Top 5 closest results ##########\n",
      "   distance                                           document\n",
      "0  0.313729                              Got to breed a horse.\n",
      "1  0.330359    Learning the secrets to breeding horses is key.\n",
      "2  0.350750                          Breeding beautiful foals.\n",
      "3  0.363281                         Breed all types of horses.\n",
      "4  0.372901  Acquiring the resources for breeding horses is...\n",
      "########## Bottom 5 closest results ##########\n",
      "     distance                                           document\n",
      "97   0.537930    I think it should be easier to get more horses.\n",
      "98   0.538071  I'm guessing the foal stall needs to be at a h...\n",
      "99   0.538550    I love this games there is so many horse breed.\n",
      "100  0.538823  Would also be nice if we could buy stables (no...\n",
      "101  0.539609      I just wish there would be more horse breeds.\n"
     ]
    }
   ],
   "execution_count": 21
  },
  {
   "metadata": {
    "ExecuteTime": {
     "end_time": "2025-02-20T03:09:23.201539Z",
     "start_time": "2025-02-20T03:09:22.370625Z"
    }
   },
   "cell_type": "code",
   "source": [
    "# Query with filter for metadata\n",
    "query_text = \"Breeding of Horses\"\n",
    "# Define a similarity threshold (adjust as needed)\n",
    "similarity_threshold = 0.54\n",
    "\n",
    "# Query the database with the similarity threshold instead of top_n\n",
    "results_df = query_chroma(query_text, collection_name, similarity_threshold=similarity_threshold,\n",
    "                          persist_path=persist_dir, where_filters={\"pp_data_source\": \"Survey\"})\n",
    "\n",
    "# if results_df is not empty, display the top 5 and bottom 5 results\n",
    "if not results_df.empty:\n",
    "    print(\"########## Top 5 closest results ##########\")\n",
    "    print(results_df.sort_values(by=\"distance\", ascending=True, inplace=False)[[\"distance\", \"document\"]].head())\n",
    "    print(\"########## Bottom 5 closest results ##########\")\n",
    "    print(results_df.sort_values(by=\"distance\", ascending=True, inplace=False)[[\"distance\", \"document\"]].tail())"
   ],
   "id": "4c18a897d9e01ffa",
   "outputs": [
    {
     "name": "stderr",
     "output_type": "stream",
     "text": [
      "2025-02-20 16:09:23,174 - INFO - Retrieving collection 'HRC_multi_source'.\n",
      "2025-02-20 16:09:23,184 - WARNING - Number of requested results 5500 is greater than number of elements in index 3236, updating n_results = 3236\n",
      "2025-02-20 16:09:23,190 - INFO - Received 10 results. Filtering based on similarity threshold.\n",
      "2025-02-20 16:09:23,196 - INFO - Filtered results count: 1\n"
     ]
    },
    {
     "name": "stdout",
     "output_type": "stream",
     "text": [
      "########## Top 5 closest results ##########\n",
      "   distance                               document\n",
      "0   0.53803  Instant breeding on studs is amazing.\n",
      "########## Bottom 5 closest results ##########\n",
      "   distance                               document\n",
      "0   0.53803  Instant breeding on studs is amazing.\n"
     ]
    }
   ],
   "execution_count": 30
  },
  {
   "metadata": {
    "ExecuteTime": {
     "end_time": "2025-02-20T03:09:12.189848Z",
     "start_time": "2025-02-20T03:09:12.166565Z"
    }
   },
   "cell_type": "code",
   "source": [
    "chroma_client = chromadb.PersistentClient(path=persist_dir)\n",
    "collection = chroma_client.get_collection(name=collection_name)\n",
    "collection.count()"
   ],
   "id": "40c0b8278d7f9910",
   "outputs": [
    {
     "data": {
      "text/plain": [
       "3236"
      ]
     },
     "execution_count": 29,
     "metadata": {},
     "output_type": "execute_result"
    }
   ],
   "execution_count": 29
  },
  {
   "metadata": {
    "ExecuteTime": {
     "end_time": "2025-02-20T03:06:12.996705Z",
     "start_time": "2025-02-20T03:06:12.753269Z"
    }
   },
   "cell_type": "code",
   "source": [
    "# delet a chroma collection\n",
    "\n",
    "chroma_client.delete_collection(collection_name)\n"
   ],
   "id": "d8076a771a9731c3",
   "outputs": [],
   "execution_count": 13
  },
  {
   "metadata": {
    "ExecuteTime": {
     "end_time": "2025-02-20T03:09:00.270650Z",
     "start_time": "2025-02-20T03:09:00.236628Z"
    }
   },
   "cell_type": "code",
   "source": [
    "# New data source\n",
    "survey_data = prepare_dataframe('Survey', survey_path, output_csv_path=None)           # No output path = no CSV is going to be saved"
   ],
   "id": "6ffb9b9e51136e73",
   "outputs": [],
   "execution_count": 27
  },
  {
   "metadata": {
    "ExecuteTime": {
     "end_time": "2025-02-20T03:09:02.816963Z",
     "start_time": "2025-02-20T03:09:02.569865Z"
    }
   },
   "cell_type": "code",
   "source": "upsert_chroma_data(survey_data, collection_name, persist_dir)",
   "id": "dbbed4f0b3cc8cfe",
   "outputs": [
    {
     "name": "stderr",
     "output_type": "stream",
     "text": [
      "2025-02-20 16:09:02,569 - INFO - Initializing persistent Chroma client via `PersistentClient`.\n",
      "2025-02-20 16:09:02,573 - INFO - Collection 'HRC_multi_source' already exists. Retrieving it.\n",
      "2025-02-20 16:09:02,573 - INFO - Checking which of the 10 IDs already exist in the collection.\n",
      "2025-02-20 16:09:02,573 - INFO - 0 IDs already existed, 10 are new. Inserting only the new ones.\n",
      "2025-02-20 16:09:02,799 - INFO - Inserted rows 0 to 99 into 'HRC_multi_source'.\n",
      "2025-02-20 16:09:02,815 - INFO - Upsert complete. Collection 'HRC_multi_source' updated with no duplicates.\n"
     ]
    }
   ],
   "execution_count": 28
  },
  {
   "metadata": {},
   "cell_type": "code",
   "outputs": [],
   "execution_count": null,
   "source": "",
   "id": "1e1025298bfca35d"
  }
 ],
 "metadata": {
  "kernelspec": {
   "display_name": "Python 3",
   "language": "python",
   "name": "python3"
  },
  "language_info": {
   "codemirror_mode": {
    "name": "ipython",
    "version": 2
   },
   "file_extension": ".py",
   "mimetype": "text/x-python",
   "name": "python",
   "nbconvert_exporter": "python",
   "pygments_lexer": "ipython2",
   "version": "2.7.6"
  }
 },
 "nbformat": 4,
 "nbformat_minor": 5
}
